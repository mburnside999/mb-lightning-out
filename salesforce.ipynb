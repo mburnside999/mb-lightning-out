{
 "cells": [
  {
   "cell_type": "code",
   "execution_count": 1,
   "id": "a9a783c2-a380-47b3-8ed6-b1ed16ea3134",
   "metadata": {},
   "outputs": [],
   "source": [
    "from simple_salesforce import Salesforce, format_soql\n",
    "\n",
    "from pprint import pprint\n",
    "import json\n",
    "import pandas as pd"
   ]
  },
  {
   "cell_type": "code",
   "execution_count": 2,
   "id": "0d28b0f7-a004-4640-8e92-eabc2a629020",
   "metadata": {},
   "outputs": [
    {
     "name": "stdout",
     "output_type": "stream",
     "text": [
      "Requirement already satisfied: simple_salesforce in ./.venv/lib/python3.11/site-packages (1.12.4)\n",
      "Requirement already satisfied: requests>=2.22.0 in ./.venv/lib/python3.11/site-packages (from simple_salesforce) (2.31.0)\n",
      "Requirement already satisfied: cryptography in ./.venv/lib/python3.11/site-packages (from simple_salesforce) (41.0.3)\n",
      "Requirement already satisfied: zeep in ./.venv/lib/python3.11/site-packages (from simple_salesforce) (4.2.1)\n",
      "Requirement already satisfied: pyjwt in ./.venv/lib/python3.11/site-packages (from simple_salesforce) (2.8.0)\n",
      "Requirement already satisfied: charset-normalizer<4,>=2 in ./.venv/lib/python3.11/site-packages (from requests>=2.22.0->simple_salesforce) (3.2.0)\n",
      "Requirement already satisfied: idna<4,>=2.5 in ./.venv/lib/python3.11/site-packages (from requests>=2.22.0->simple_salesforce) (3.4)\n",
      "Requirement already satisfied: urllib3<3,>=1.21.1 in ./.venv/lib/python3.11/site-packages (from requests>=2.22.0->simple_salesforce) (2.0.4)\n",
      "Requirement already satisfied: certifi>=2017.4.17 in ./.venv/lib/python3.11/site-packages (from requests>=2.22.0->simple_salesforce) (2023.7.22)\n",
      "Requirement already satisfied: cffi>=1.12 in ./.venv/lib/python3.11/site-packages (from cryptography->simple_salesforce) (1.15.1)\n",
      "Requirement already satisfied: attrs>=17.2.0 in ./.venv/lib/python3.11/site-packages (from zeep->simple_salesforce) (23.1.0)\n",
      "Requirement already satisfied: isodate>=0.5.4 in ./.venv/lib/python3.11/site-packages (from zeep->simple_salesforce) (0.6.1)\n",
      "Requirement already satisfied: lxml>=4.6.0 in ./.venv/lib/python3.11/site-packages (from zeep->simple_salesforce) (4.9.3)\n",
      "Requirement already satisfied: platformdirs>=1.4.0 in ./.venv/lib/python3.11/site-packages (from zeep->simple_salesforce) (3.10.0)\n",
      "Requirement already satisfied: requests-toolbelt>=0.7.1 in ./.venv/lib/python3.11/site-packages (from zeep->simple_salesforce) (1.0.0)\n",
      "Requirement already satisfied: requests-file>=1.5.1 in ./.venv/lib/python3.11/site-packages (from zeep->simple_salesforce) (1.5.1)\n",
      "Requirement already satisfied: pytz in ./.venv/lib/python3.11/site-packages (from zeep->simple_salesforce) (2023.3)\n",
      "Requirement already satisfied: pycparser in ./.venv/lib/python3.11/site-packages (from cffi>=1.12->cryptography->simple_salesforce) (2.21)\n",
      "Requirement already satisfied: six in ./.venv/lib/python3.11/site-packages (from isodate>=0.5.4->zeep->simple_salesforce) (1.16.0)\n"
     ]
    }
   ],
   "source": [
    "!pip install simple_salesforce\n"
   ]
  },
  {
   "cell_type": "code",
   "execution_count": 3,
   "id": "ee6078a9-e7ab-423e-a1d0-25036b4c97be",
   "metadata": {},
   "outputs": [],
   "source": [
    "from simple_salesforce import Salesforce, format_soql\n",
    "from pprint import pprint"
   ]
  },
  {
   "cell_type": "code",
   "execution_count": 4,
   "id": "a48493d0-78de-495e-86e2-cb6c7cf426bd",
   "metadata": {},
   "outputs": [],
   "source": [
    "import json"
   ]
  },
  {
   "cell_type": "code",
   "execution_count": 5,
   "id": "6c4eeab9-2732-4b76-a5c9-3c2784cf0b80",
   "metadata": {},
   "outputs": [],
   "source": [
    "with open(\"EXAMPLE_login.json\", \"r\") as login_file:\n",
    "    creds = json.load(login_file)"
   ]
  },
  {
   "cell_type": "code",
   "execution_count": 6,
   "id": "2cf11fcb-f076-4281-b67d-e5a462d626d4",
   "metadata": {},
   "outputs": [
    {
     "name": "stdout",
     "output_type": "stream",
     "text": [
      "{'login': {'username': 'mburnside@dxdo2023.demo', 'password': 'eB!kes1234', 'token': ''}}\n"
     ]
    }
   ],
   "source": [
    "print (creds)"
   ]
  },
  {
   "cell_type": "code",
   "execution_count": 7,
   "id": "155187b9-44b3-42af-a2f7-8656adefdec2",
   "metadata": {},
   "outputs": [],
   "source": [
    "sf = Salesforce(username=creds['login']['username'],\n",
    "                password=creds['login']['password'],\n",
    "                security_token=creds['login']['token'])"
   ]
  },
  {
   "cell_type": "code",
   "execution_count": 8,
   "id": "d8b92a9b-658f-4a8b-a344-2d88a13024da",
   "metadata": {},
   "outputs": [
    {
     "name": "stdout",
     "output_type": "stream",
     "text": [
      "<simple_salesforce.api.Salesforce object at 0x119b32050>\n"
     ]
    }
   ],
   "source": [
    "print (sf)"
   ]
  },
  {
   "cell_type": "code",
   "execution_count": 11,
   "id": "6057be2f-657d-47fe-8c1a-9fdc805a1c7b",
   "metadata": {},
   "outputs": [
    {
     "name": "stdout",
     "output_type": "stream",
     "text": [
      "'0032w00000x6rRdAAI -- wes.chopra@greendotmedia.com'\n",
      "'0032w00000x6rReAAI -- jason.brennaman@greendotmedia.com'\n",
      "'0032w00000x6rRfAAI -- contact+lisajones@sdo.mygbiz.com'\n",
      "'0032w00000x6rRgAAI -- contact+jeffblay@sdo.mygbiz.com'\n",
      "'0032w00000x6rRhAAI -- contact+susanjohanson@sdo.mygbiz.com'\n",
      "'0032w00000x6rShAAI -- contact+brucewatkins@sdo.mygbiz.com'\n",
      "'0032w00000x6rSiAAI -- contact+janzen@sdo.mygbiz.com'\n",
      "'0032w00000x6rSjAAI -- contact+tbaxter@sdo.mygbiz.com'\n",
      "'0032w00000x6rSkAAI -- contact+phouston@sdo.mygbiz.com'\n",
      "'0032w00000x6rSlAAI -- contact+judy@sdo.mygbiz.com'\n",
      "'0032w00000x6rSmAAI -- contact+janperkins@sdo.mygbiz.com'\n",
      "'0032w00000x6rSnAAI -- contact+rosegonzalez@sdo.mygbiz.com'\n",
      "'0032w00000x6rSoAAI -- contact+kylepearson@sdo.mygbiz.com'\n",
      "'0032w00000x6rSpAAI -- contact+allisonyates@sdo.mygbiz.com'\n",
      "'0032w00000x6rSqAAI -- contact+christempley@sdo.mygbiz.com'\n",
      "'0032w00000x6rSrAAI -- contact+davidhomme@sdo.mygbiz.com'\n",
      "'0032w00000x6rSsAAI -- contact+thomasgreen@sdo.mygbiz.com'\n",
      "'0032w00000x6rStAAI -- contact+ronreid@sdo.mygbiz.com'\n",
      "'0032w00000x6rROAAY -- contact+bhodges@sdo.mygbiz.com'\n",
      "'0032w00000x6rRPAAY -- contact+edflachbarth@sdo.mygbiz.com'\n",
      "'0032w00000x6rRQAAY -- jd@mailinator.com'\n",
      "'0032w00000x6rSTAAY -- jpreston@mailinator.com'\n",
      "'0032w00000x6rSUAAY -- contact+michaelbasch@sdo.mygbiz.com'\n",
      "'0032w00000x6rSVAAY -- contact+daniellehauck@sdo.mygbiz.com'\n",
      "'0032w00000x6rRRAAY -- contact+stephaniecurran@sdo.mygbiz.com'\n",
      "'0032w00000x6rRSAAY -- mk@mailinator.com'\n",
      "'0032w00000x6rRTAAY -- contact+seanforbes@sdo.mygbiz.com'\n",
      "'0032w00000x6rRUAAY -- contact+almiller@sdo.mygbiz.com'\n",
      "'0032w00000x6rRVAAY -- si@mailinator.com'\n",
      "'0032w00000x6rRWAAY -- markmetz@mailinator.com'\n",
      "'0032w00000x6rRXAAY -- contact+jeffkane@sdo.mygbiz.com'\n",
      "'0032w00000x6rRYAAY -- contact+stevemcdonald@sdo.mygbiz.com'\n",
      "'0032w00000x6rRZAAY -- contact+seanmurphy@sdo.mygbiz.com'\n",
      "'0032w00000x6rRaAAI -- contact+kathyfitzpatrick@sdo.mygbiz.com'\n",
      "'0032w00000x6rRbAAI -- contact+keithlopez@sdo.mygbiz.com'\n",
      "'0032w00000x6rRcAAI -- None'\n",
      "'0032w00000x6rSAAAY -- bbronze@mailinator.com'\n",
      "'0032w00000x6rSBAAY -- contact+janicebergman@sdo.mygbiz.com'\n",
      "'0032w00000x6rSCAAY -- contact+alexjohnson@sdo.mygbiz.com'\n",
      "'0032w00000x6rSDAAY -- contact+billymack@sdo.mygbiz.com'\n",
      "'0032w00000x6rSEAAY -- contact+allegri@sdo.mygbiz.com'\n",
      "'0032w00000x6rSFAAY -- contact+sandyknudson@sdo.mygbiz.com'\n",
      "'0032w00000x6rSGAAY -- contact+cristinhwang@sdo.mygbiz.com'\n",
      "'0032w00000x6rSHAAY -- contact+stellapavlova@sdo.mygbiz.com'\n",
      "'0032w00000x6rSWAAY -- contact+richardhlloyd@sdo.mygbiz.com'\n",
      "'0032w00000x6rSXAAY -- contact+marciviviano@sdo.mygbiz.com'\n",
      "'0032w00000x6rSYAAY -- contact+bullock@sdo.mygbiz.com'\n",
      "'0032w00000x6rSZAAY -- contact+billmartin@sdo.mygbiz.com'\n",
      "'0032w00000x6rSaAAI -- contact+rende@sdo.mygbiz.com'\n",
      "'0032w00000x6rSbAAI -- contact+josephgillespie@sdo.mygbiz.com'\n",
      "'0032w00000x6rScAAI -- contact+siennacompetente@sdo.mygbiz.com'\n",
      "'0032w00000x6rSdAAI -- contact+robertfontana@sdo.mygbiz.com'\n",
      "'0032w00000x6rSeAAI -- contact+chrisfriedman@sdo.mygbiz.com'\n",
      "'0032w00000x6rSfAAI -- contact+davidharris@sdo.mygbiz.com'\n",
      "'0032w00000x6rSgAAI -- contact+larrykuchenreuther@sdo.mygbiz.com'\n",
      "'0032w00000x6rRLAAY -- lauren.boyle@mailinator.com'\n",
      "'0032w00000x6rRNAAY -- contact+treseller@sdo.mygbiz.com'\n",
      "'0032w00000x6rRiAAI -- contact+billblau@sdo.mygbiz.com'\n",
      "'0032w00000x6rRwAAI -- contact+ronadkins@sdo.mygbiz.com'\n",
      "'0032w00000x6rRxAAI -- contact+young@sdo.mygbiz.com'\n",
      "'0032w00000x6rRyAAI -- contact+marc.benioff@sdo.mygbiz.com'\n",
      "'0032w00000x6rRzAAI -- contact+juliedillon@sdo.mygbiz.com'\n",
      "'0032w00000x6rS0AAI -- contact+breereitz@sdo.mygbiz.com'\n",
      "'0032w00000x6rS1AAI -- contact+markdillon@sdo.mygbiz.com'\n",
      "'0032w00000x6rS2AAI -- contact+woodsonmartin@sdo.mygbiz.com'\n",
      "'0032w00000x6rS3AAI -- contact+edhennessy@sdo.mygbiz.com'\n",
      "'0032w00000x6rS4AAI -- contact+grace@sdo.mygbiz.com'\n",
      "'0032w00000x6rS5AAI -- contact+colli@sdo.mygbiz.com'\n",
      "'0032w00000x6rS6AAI -- contact+hamidbasirat@sdo.mygbiz.com'\n",
      "'0032w00000x6rSIAAY -- contact+bradowens@sdo.mygbiz.com'\n",
      "'0032w00000x6rSJAAY -- emilee.kendra@fakeemail.com'\n",
      "'0032w00000x6rSKAAY -- ssilver@mailinator.com'\n",
      "'0032w00000x6rSLAAY -- contact+sullivan@sdo.mygbiz.com'\n",
      "'0032w00000x6rSMAAY -- contact+georgemazzotta@sdo.mygbiz.com'\n",
      "'0032w00000x6rSNAAY -- contact+larry.boyle@sdo.mygbiz.com'\n",
      "'0032w00000x6rSOAAY -- contact+bradowens@sdo.mygbiz.com'\n",
      "'0032w00000x6rSPAAY -- contact+lloydarchibald@sdo.mygbiz.com'\n",
      "'0032w00000x6rSQAAY -- contact+jeannierogers@sdo.mygbiz.com'\n",
      "'0032w00000x6rSRAAY -- contact+hollieeverhart@sdo.mygbiz.com'\n",
      "'0032w00000x6rSSAAY -- contact+shaydulaney@sdo.mygbiz.com'\n",
      "'0032w00000x6rRjAAI -- contact+tomdavis@sdo.mygbiz.com'\n",
      "'0032w00000x6rRkAAI -- contact+ryangiggs@sdo.mygbiz.com'\n",
      "'0032w00000x6rRlAAI -- contact+sarahjeffries@sdo.mygbiz.com'\n",
      "'0032w00000x6rRmAAI -- contact+rachelmorris@sdo.mygbiz.com'\n",
      "'0032w00000x6rRnAAI -- abowden@example.com'\n",
      "'0032w00000x6rRoAAI -- contact+derekrose@sdo.mygbiz.com'\n",
      "'0032w00000x6rRpAAI -- contact+arthursong@sdo.mygbiz.com'\n",
      "'0032w00000x6rRqAAI -- contact+patriciafeager@sdo.mygbiz.com'\n",
      "'0032w00000x6rRrAAI -- contact+martingreen@sdo.mygbiz.com'\n",
      "'0032w00000x6rRsAAI -- contact+brendamcclure@sdo.mygbiz.com'\n",
      "'0032w00000x6rRtAAI -- contact+richardobrienjr@sdo.mygbiz.com'\n",
      "'0032w00000x6rRuAAI -- contact+thomassimes@sdo.mygbiz.com'\n",
      "'0032w00000x6rRvAAI -- contact+bjorannabozney@sdo.mygbiz.com'\n",
      "'0032w00000x6rRMAAY -- contact+amercer@sdo.mygbiz.com'\n",
      "'0032w00000x6rS7AAI -- contact+jturner@sdo.mygbiz.com'\n",
      "'0032w00000x6rS8AAI -- contact+erinwalsh@sdo.mygbiz.com'\n",
      "'0032w00000x6rS9AAI -- contact+tomjames@sdo.mygbiz.com'\n",
      "'0032w00000x6rSzAAI -- contact+sjones@sdo.mygbiz.com'\n",
      "'0032w00000x6rT0AAI -- contact+warkentine@sdo.mygbiz.com'\n",
      "'0032w00000x6rT1AAI -- contact+portalpreviewuser@sdo.mygbiz.com'\n",
      "'0032w00000x6rT2AAI -- contact+banastasio@sdo.mygbiz.com'\n",
      "'0032w00000x6rT3AAI -- contact+tammyreseller@sdo.mygbiz.com'\n",
      "'0032w00000x6rT4AAI -- None'\n",
      "'0032w00000x6rSuAAI -- contact+bharmon@sdo.mygbiz.com'\n",
      "'0032w00000x6rSvAAI -- contact+peterfoss@sdo.mygbiz.com'\n",
      "'0032w00000x6rSwAAI -- contact+malmin@sdo.mygbiz.com'\n",
      "'0032w00000x6rSxAAI -- contact+bonniebarra@sdo.mygbiz.com'\n",
      "'0032w00000x6rSyAAI -- contact+sutherland@sdo.mygbiz.com'\n",
      "'0032w00001AJWLQAA5 -- None'\n"
     ]
    }
   ],
   "source": [
    "SOQL = \"SELECT Id, Email FROM Contact\"\n",
    "data = sf.query(SOQL)\n",
    "for d in data['records']:\n",
    "    pprint(f\"{d['Id']} -- {d['Email']}\")"
   ]
  },
  {
   "cell_type": "code",
   "execution_count": null,
   "id": "74f44e24-80af-4608-b9a0-4ceba679c93d",
   "metadata": {},
   "outputs": [],
   "source": [
    "\n",
    "df = pd.DataFrame(data['records'])\n",
    "df\n",
    "df.drop(columns=['attributes'],inplace=True)\n",
    "df\n"
   ]
  },
  {
   "cell_type": "code",
   "execution_count": null,
   "id": "c4d9f15e-e0c5-4f64-84c2-8f2d6a9e88e0",
   "metadata": {},
   "outputs": [],
   "source": []
  },
  {
   "cell_type": "code",
   "execution_count": null,
   "id": "fa5d3775-73c9-4420-a22c-4999f1a85216",
   "metadata": {},
   "outputs": [],
   "source": []
  }
 ],
 "metadata": {
  "kernelspec": {
   "display_name": "Python 3 (ipykernel)",
   "language": "python",
   "name": "python3"
  },
  "language_info": {
   "codemirror_mode": {
    "name": "ipython",
    "version": 3
   },
   "file_extension": ".py",
   "mimetype": "text/x-python",
   "name": "python",
   "nbconvert_exporter": "python",
   "pygments_lexer": "ipython3",
   "version": "3.11.4"
  }
 },
 "nbformat": 4,
 "nbformat_minor": 5
}
