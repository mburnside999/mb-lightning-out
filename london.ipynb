{
 "cells": [
  {
   "cell_type": "code",
   "execution_count": 28,
   "id": "26a17045-e172-4412-a525-6d424c0443a0",
   "metadata": {},
   "outputs": [
    {
     "name": "stdout",
     "output_type": "stream",
     "text": [
      "       date  cloud_cover  sunshine  global_radiation  max_temp  mean_temp  \\\n",
      "0  19790101          2.0       7.0              52.0       2.3       -4.1   \n",
      "1  19790102          6.0       1.7              27.0       1.6       -2.6   \n",
      "2  19790103          5.0       0.0              13.0       1.3       -2.8   \n",
      "3  19790104          8.0       0.0              13.0      -0.3       -2.6   \n",
      "4  19790105          6.0       2.0              29.0       5.6       -0.8   \n",
      "\n",
      "   min_temp  precipitation  pressure  snow_depth  \n",
      "0      -7.5            0.4  101900.0         9.0  \n",
      "1      -7.5            0.0  102530.0         8.0  \n",
      "2      -7.2            0.0  102050.0         4.0  \n",
      "3      -6.5            0.0  100840.0         2.0  \n",
      "4      -1.4            0.0  102250.0         1.0  \n",
      "                            OLS Regression Results                            \n",
      "==============================================================================\n",
      "Dep. Variable:                   date   R-squared:                       0.001\n",
      "Model:                            OLS   Adj. R-squared:                  0.001\n",
      "Method:                 Least Squares   F-statistic:                     15.55\n",
      "Date:                Mon, 28 Aug 2023   Prob (F-statistic):           8.06e-05\n",
      "Time:                        16:23:38   Log-Likelihood:            -1.8148e+05\n",
      "No. Observations:               13843   AIC:                         3.630e+05\n",
      "Df Residuals:                   13841   BIC:                         3.630e+05\n",
      "Df Model:                           1                                         \n",
      "Covariance Type:            nonrobust                                         \n",
      "==============================================================================\n",
      "                 coef    std err          t      P>|t|      [0.025      0.975]\n",
      "------------------------------------------------------------------------------\n",
      "Intercept   1.997e+07   2544.333   7850.427      0.000       2e+07       2e+07\n",
      "max_temp     615.2931    156.021      3.944      0.000     309.471     921.115\n",
      "==============================================================================\n",
      "Omnibus:                     9839.032   Durbin-Watson:                   0.000\n",
      "Prob(Omnibus):                  0.000   Jarque-Bera (JB):              844.272\n",
      "Skew:                           0.143   Prob(JB):                    4.66e-184\n",
      "Kurtosis:                       1.824   Cond. No.                         41.0\n",
      "==============================================================================\n",
      "\n",
      "Notes:\n",
      "[1] Standard Errors assume that the covariance matrix of the errors is correctly specified.\n"
     ]
    },
    {
     "data": {
      "image/png": "[encoded data removed]",
      "text/plain": [
       "<Figure size 640x480 with 1 Axes>"
      ]
     },
     "metadata": {},
     "output_type": "display_data"
    }
   ],
   "source": [
    "import pandas as pd\n",
    "import statsmodels.api as sm\n",
    "import matplotlib.pyplot as plt\n",
    "\n",
    "df = pd.read_csv('london_weather.csv')\n",
    "df.dropna(inplace = True)\n",
    "\n",
    "print(df.head())\n",
    "\n",
    "# Fit a linear regression model\n",
    "model = sm.formula.ols('date ~ max_temp', data=df).fit()\n",
    "\n",
    "# Print the model summary\n",
    "print(model.summary())\n",
    "\n",
    "y_pred = model.predict()\n",
    "\n",
    "# Plot the data and the regression line\n",
    "plt.scatter(df['date'], df['max_temp'])\n",
    "plt.plot(df['date'], y_pred, color='red')\n",
    "plt.show()"
   ]
  },
  {
   "cell_type": "code",
   "execution_count": 15,
   "id": "6160c6b5-93e7-414f-bca3-d9786899e7d2",
   "metadata": {},
   "outputs": [],
   "source": [
    "!\n"
   ]
  },
  {
   "cell_type": "code",
   "execution_count": null,
   "id": "7c7af5bd-2023-4dd2-8704-5dea554aae94",
   "metadata": {},
   "outputs": [],
   "source": []
  }
 ],
 "metadata": {
  "kernelspec": {
   "display_name": "Python 3 (ipykernel)",
   "language": "python",
   "name": "python3"
  },
  "language_info": {
   "codemirror_mode": {
    "name": "ipython",
    "version": 3
   },
   "file_extension": ".py",
   "mimetype": "text/x-python",
   "name": "python",
   "nbconvert_exporter": "python",
   "pygments_lexer": "ipython3",
   "version": "3.11.4"
  }
 },
 "nbformat": 4,
 "nbformat_minor": 5
}
